{
 "cells": [
  {
   "cell_type": "code",
   "execution_count": 18,
   "metadata": {
    "collapsed": false
   },
   "outputs": [
    {
     "name": "stdout",
     "output_type": "stream",
     "text": [
      "C:\\Users\\honglin.wang\\PycharmProjects\\ML"
     ]
    },
    {
     "name": "stdout",
     "output_type": "stream",
     "text": [
      "\n"
     ]
    },
    {
     "data": {
      "image/png": "[encoded data removed]",
      "text/plain": [
       "<Figure size 432x288 with 1 Axes>"
      ]
     },
     "metadata": {},
     "output_type": "display_data"
    }
   ],
   "source": [
    "import os\n",
    "import numpy as np\n",
    "import pandas as pd\n",
    "import matplotlib.pyplot as plt\n",
    "import seaborn as sns\n",
    "from tqdm import tqdm_notebook as tqdm\n",
    "from sklearn.preprocessing import StandardScaler\n",
    "from sklearn.svm import NuSVR\n",
    "from sklearn.kernel_ridge import KernelRidge\n",
    "from sklearn.metrics import mean_absolute_error, make_scorer\n",
    "from sklearn.model_selection import GridSearchCV\n",
    "from sklearn.linear_model import LinearRegression\n",
    "from sklearn.model_selection import StratifiedKFold, KFold\n",
    "from sklearn.metrics import mean_squared_error\n",
    "from sklearn.linear_model import BayesianRidge\n",
    "import warnings\n",
    "warnings.filterwarnings(\"ignore\")\n",
    "\n",
    "import os\n",
    "print os.getcwd()\n",
    "\n",
    "train_data = pd.read_csv(\"./Earthquake/all/train_1m.csv\",dtype={'acoustic_data': np.int16, 'time_to_failure': np.float64}, nrows = 1000000)\n",
    "# print (train_data.head())\n",
    "# print (train_data.describe())\n",
    "\n",
    "train_data.to_csv('./Earthquake/all/train_1m.csv')\n",
    "\n",
    "plt.boxplot(train_data['acoustic_data'])\n",
    "plt.show()"
   ]
  },
  {
   "cell_type": "code",
   "execution_count": null,
   "metadata": {
    "collapsed": false
   },
   "outputs": [
    {
     "data": {
      "text/plain": [
       "HBox(children=(IntProgress(value=0, max=1000), HTML(value=u'')))"
      ]
     },
     "execution_count": 0,
     "metadata": {},
     "output_type": "execute_result"
    },
    {
     "name": "stdout",
     "output_type": "stream",
     "text": [
      "\n"
     ]
    },
    {
     "name": "stdout",
     "output_type": "stream",
     "text": [
      "     ave        std    max   min   q95    q99   q05    q01  abs_max  abs_mean    abs_std     trend  abs_trend\n0  5.137   4.734789   31.0 -26.0  11.0  21.00  -2.0  -8.01     31.0     5.793   3.904888  0.000020   0.002219\n1  5.350   5.915530   31.0 -17.0  15.0  20.01  -4.0  -9.00     31.0     6.428   4.721950 -0.000242  -0.001699\n2  5.015  26.686003  104.0 -98.0  53.0  82.03 -44.0 -73.00    104.0    18.147  20.198500 -0.000593   0.033424\n3  5.364  17.191902   65.0 -58.0  35.0  53.00 -24.0 -43.00     65.0    13.640  11.759439 -0.000718  -0.018962\n4  4.925  10.259112   43.0 -28.0  21.0  31.02 -12.0 -20.00     43.0     9.003   6.960675  0.000658  -0.007192"
     ]
    },
    {
     "name": "stdout",
     "output_type": "stream",
     "text": [
      "\n"
     ]
    },
    {
     "name": "stdout",
     "output_type": "stream",
     "text": [
      "   time_to_failure\n0         1.469099\n1         1.469098\n2         1.469097\n3         1.469096\n4         1.468099"
     ]
    },
    {
     "name": "stdout",
     "output_type": "stream",
     "text": [
      "\n"
     ]
    }
   ],
   "source": [
    "\n",
    "pd.set_option('display.max_rows',500)\n",
    "pd.set_option('display.max_columns',500)\n",
    "pd.set_option('display.width',1000)\n",
    "\n",
    "# Feature Enginering \n",
    "def add_trend_feature(arr, abs_values=False):\n",
    "    idx = np.array(range(len(arr)))\n",
    "    if abs_values:\n",
    "        arr = np.abs(arr)\n",
    "    lr = LinearRegression()\n",
    "    lr.fit(idx.reshape(-1, 1), arr)\n",
    "    return lr.coef_[0]\n",
    "\n",
    "# print (add_trend_feature([1,-200,3,4,5,100]))\n",
    "\n",
    "rows = 1000\n",
    "segments = int(np.floor(train_data.shape[0] / rows))\n",
    "X_train = pd.DataFrame(index=range(segments), dtype=np.float64,\n",
    "                       columns=['ave', 'std', 'max', 'min','q95','q99', 'q05','q01',\n",
    "                                'abs_max', 'abs_mean', 'abs_std', 'trend', 'abs_trend'])\n",
    "y_train = pd.DataFrame(index=range(segments), dtype=np.float64,\n",
    "                       columns=['time_to_failure'])\n",
    "\n",
    "# print (y_train)\n",
    "for segment in tqdm(range(segments)):\n",
    "    seg = train_data.iloc[segment*rows:segment*rows+rows]\n",
    "    x = seg['acoustic_data'].values\n",
    "    y = seg['time_to_failure'].values[-1]\n",
    "\n",
    "    y_train.loc[segment, 'time_to_failure'] = y\n",
    "\n",
    "    X_train.loc[segment, 'ave'] = x.mean()\n",
    "    X_train.loc[segment, 'std'] = x.std()\n",
    "    X_train.loc[segment, 'max'] = x.max()\n",
    "    X_train.loc[segment, 'min'] = x.min()\n",
    "    X_train.loc[segment, 'q95'] = np.quantile(x,0.95)\n",
    "    X_train.loc[segment, 'q99'] = np.quantile(x,0.99)\n",
    "    X_train.loc[segment, 'q05'] = np.quantile(x,0.05)\n",
    "    X_train.loc[segment, 'q01'] = np.quantile(x,0.01)\n",
    "\n",
    "    X_train.loc[segment, 'abs_max'] = np.abs(x).max()\n",
    "    X_train.loc[segment, 'abs_mean'] = np.abs(x).mean()\n",
    "    X_train.loc[segment, 'abs_std'] = np.abs(x).std()\n",
    "    X_train.loc[segment, 'trend'] = add_trend_feature(x)\n",
    "    X_train.loc[segment, 'abs_trend'] = add_trend_feature(x, abs_values=True)\n",
    "\n",
    "# print(X_train.head())\n",
    "# print (y_train.head())\n",
    "\n",
    "scaler = StandardScaler()\n",
    "scaler.fit(X_train)\n",
    "X_train_scaled = scaler.transform(X_train)\n",
    "# print (X_train_scaled)"
   ]
  },
  {
   "cell_type": "code",
   "execution_count": 15,
   "metadata": {
    "collapsed": false
   },
   "outputs": [
    {
     "data": {
      "text/plain": [
       "HBox(children=(IntProgress(value=0, max=2624), HTML(value=u'')))"
      ]
     },
     "execution_count": 0,
     "metadata": {},
     "output_type": "execute_result"
    },
    {
     "name": "stdout",
     "output_type": "stream",
     "text": [
      "\n"
     ]
    },
    {
     "name": "stdout",
     "output_type": "stream",
     "text": [
      "               ave          std          max          min          q95          q99          q05          q01      abs_max     abs_mean      abs_std         trend     abs_trend\ncount  2624.000000  2624.000000  2624.000000  2624.000000  2624.000000  2624.000000  2624.000000  2624.000000  2624.000000  2624.000000  2624.000000  2.624000e+03  2.624000e+03\nmean      4.148616     6.684138   165.683689  -154.099848    10.998857    20.429184    -2.692073   -12.083952   173.052591     5.308058     5.840772 -5.323809e-08 -1.529011e-06\nstd       0.252326     8.744606   276.517022   291.376009     2.423279    14.711809     2.416047    14.902307   308.452089     1.602270     8.576887  1.831795e-06  3.164217e-05\nmin       3.410040     2.848331    28.000000 -6323.000000     8.000000    10.000000   -42.000000  -351.010000    28.000000     3.846733     2.487409 -6.547496e-06 -7.218583e-04\n25%       3.974123     4.640124    93.000000  -162.000000    10.000000    15.000000    -3.000000   -15.000000    95.000000     4.809650     3.943607 -1.266694e-06 -3.139954e-06\n50%       4.148043     5.816289   128.000000  -117.000000    11.000000    19.000000    -2.000000   -11.000000   133.000000     5.161793     4.919639 -6.604149e-08 -1.731253e-07\n75%       4.328440     7.055564   172.000000   -81.000000    12.000000    23.000000    -1.000000    -7.000000   179.250000     5.521922     6.044200  1.175729e-06  3.086400e-06\nmax       4.940780   171.321173  6741.000000   -20.000000    50.000000   333.000000     0.000000    -2.000000  6741.000000    32.165280   168.389844  6.036805e-06  1.845567e-04"
     ]
    },
    {
     "name": "stdout",
     "output_type": "stream",
     "text": [
      "\n"
     ]
    }
   ],
   "source": [
    "\n",
    "submission = pd.read_csv('./Earthquake/all/sample_submission.csv', index_col='seg_id')\n",
    "X_test = pd.DataFrame(columns=X_train.columns, dtype=np.float64, index=submission.index)\n",
    "for seg_id in tqdm(X_test.index):\n",
    "    seg = pd.read_csv('./Earthquake/all/test/' + seg_id + '.csv')\n",
    "    x = seg['acoustic_data'].values\n",
    "    X_test.loc[seg_id, 'ave'] = x.mean()\n",
    "    X_test.loc[seg_id, 'std'] = x.std()\n",
    "    X_test.loc[seg_id, 'max'] = x.max()\n",
    "    X_test.loc[seg_id, 'min'] = x.min()\n",
    "    X_test.loc[seg_id, 'q95'] = np.quantile(x,0.95)\n",
    "    X_test.loc[seg_id, 'q99'] = np.quantile(x,0.99)\n",
    "    X_test.loc[seg_id, 'q05'] = np.quantile(x,0.05)\n",
    "    X_test.loc[seg_id, 'q01'] = np.quantile(x,0.01)\n",
    "    \n",
    "    X_test.loc[seg_id, 'abs_max'] = np.abs(x).max()\n",
    "    X_test.loc[seg_id, 'abs_mean'] = np.abs(x).mean()\n",
    "    X_test.loc[seg_id, 'abs_std'] = np.abs(x).std()\n",
    "    X_test.loc[seg_id, 'trend'] = add_trend_feature(x)\n",
    "    X_test.loc[seg_id, 'abs_trend'] = add_trend_feature(x, abs_values=True)\n",
    "\n",
    "print (X_test.describe())\n",
    "X_test_scaled = scaler.transform(X_test)\n",
    "X_train_scaled = pd.DataFrame(X_train_scaled,columns=X_train.columns)\n",
    "X_test_scaled = pd.DataFrame(X_test_scaled,columns=X_test.columns)\n"
   ]
  },
  {
   "cell_type": "code",
   "execution_count": 17,
   "metadata": {
    "collapsed": false
   },
   "outputs": [],
   "source": [
    "\n",
    "\n",
    "import time\n",
    "import lightgbm as lgb\n",
    "\n",
    "# start to train model\n",
    "param = {'num_leaves': 31,\n",
    "         'min_data_in_leaf': 32, \n",
    "         'objective':'regression',\n",
    "         'max_depth': -1,\n",
    "         'learning_rate': 0.001,\n",
    "         \"min_child_samples\": 20,\n",
    "         \"boosting\": \"gbdt\",\n",
    "         \"feature_fraction\": 0.9,\n",
    "         \"bagging_freq\": 1,\n",
    "         \"bagging_fraction\": 0.9 ,\n",
    "         \"bagging_seed\": 11,\n",
    "         \"metric\": 'rmse',\n",
    "         \"lambda_l1\": 0.1,\n",
    "         \"nthread\": 4,\n",
    "         \"verbosity\": -1}\n",
    "\n",
    "features = X_train_scaled.columns\n",
    "folds = KFold(n_splits=5, shuffle=True, random_state=15)\n",
    "oof = np.zeros(len(X_train_scaled))\n",
    "predictions = np.zeros(len(X_test_scaled))\n",
    "start = time.time()\n",
    "feature_importance_df = pd.DataFrame()\n",
    "\n",
    "for fold_, (trn_idx, val_idx) in enumerate(folds.split(X_train_scaled.values, y_train.values)):\n",
    "    print(\"fold n°{}\".format(fold_))\n",
    "    trn_data = lgb.Dataset(X_train_scaled.iloc[trn_idx][features], label=y_train.iloc[trn_idx])\n",
    "    val_data = lgb.Dataset(X_train_scaled.iloc[val_idx][features], label=y_train.iloc[val_idx])\n",
    "\n",
    "    num_round = 100\n",
    "    clf = lgb.train(param, trn_data, num_round, valid_sets = [trn_data, val_data], verbose_eval=100, early_stopping_rounds = 200)\n",
    "    oof[val_idx] = clf.predict(X_train_scaled.iloc[val_idx][features], num_iteration=clf.best_iteration)\n",
    "\n",
    "    fold_importance_df = pd.DataFrame()\n",
    "    fold_importance_df[\"feature\"] = features\n",
    "    fold_importance_df[\"importance\"] = clf.feature_importance()\n",
    "    fold_importance_df[\"fold\"] = fold_ + 1\n",
    "    feature_importance_df = pd.concat([feature_importance_df, fold_importance_df], axis=0)\n",
    "\n",
    "    predictions += clf.predict(X_test_scaled[features], num_iteration=clf.best_iteration) / folds.n_splits\n",
    "\n",
    "print(\"CV score: {:<8.5f}\".format(mean_squared_error(oof, y_train)**0.5))\n"
   ]
  },
  {
   "cell_type": "code",
   "execution_count": null,
   "metadata": {},
   "outputs": [],
   "source": []
  }
 ],
 "metadata": {
  "kernelspec": {
   "display_name": "Python 2",
   "language": "python",
   "name": "python2"
  },
  "language_info": {
   "codemirror_mode": {
    "name": "ipython",
    "version": 2
   },
   "file_extension": ".py",
   "mimetype": "text/x-python",
   "name": "python",
   "nbconvert_exporter": "python",
   "pygments_lexer": "ipython2",
   "version": "2.7.6"
  }
 },
 "nbformat": 4,
 "nbformat_minor": 0
}
